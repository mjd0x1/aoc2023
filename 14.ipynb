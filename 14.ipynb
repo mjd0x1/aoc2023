{
 "cells": [
  {
   "cell_type": "code",
   "execution_count": 94,
   "metadata": {},
   "outputs": [
    {
     "data": {
      "text/plain": [
       "array([94479, 94601, 94724, 94836, 95024, 95160, 95247, 95525, 95779,\n",
       "       96067, 96225, 96405, 96590, 96758, 96764, 96785, 96786, 96851,\n",
       "       96856, 96927, 96928, 96955, 96962, 97044, 97068, 97074, 97185,\n",
       "       97189, 97241, 97250])"
      ]
     },
     "execution_count": 94,
     "metadata": {},
     "output_type": "execute_result"
    }
   ],
   "source": [
    "import numpy as np\n",
    "import pandas as pd\n",
    "\n",
    "#open text file\n",
    "with open('input14.txt') as f:\n",
    "    data = f.readlines()\n",
    "\n",
    "ls = []\n",
    "for x in data:    \n",
    "    ls.append(list(x.strip()))\n",
    "data_arr = np.array(ls) \n",
    "data_arr\n",
    "\n",
    "\n",
    "\n",
    "def get_cols(r):\n",
    "    all_lists = []\n",
    "    all_lists_id = []\n",
    "    sub_list=[]\n",
    "    sub_ids = []\n",
    "    for i,x in enumerate(r):\n",
    "        if x==\"#\":\n",
    "            all_lists.append(sub_list)\n",
    "            all_lists_id.append(sub_ids)\n",
    "            sub_list =[]\n",
    "            sub_ids= []\n",
    "        else:\n",
    "            sub_list.append(x)\n",
    "            sub_ids.append(i)\n",
    "    all_lists.append(sub_list)\n",
    "    all_lists_id.append(sub_ids)\n",
    "\n",
    "    return all_lists,all_lists_id\n",
    "\n",
    "def get_new_order(arr,order):\n",
    "    ls =[]\n",
    "    for x in arr:\n",
    "        ls.append(sorted(x,reverse=order))\n",
    "    return ls\n",
    "\n",
    "def north_south(is_north):\n",
    "    for x in range(0,len(data_arr[0])):\n",
    "        r = data_arr[:,x]\n",
    "        vals,orders = get_cols(r)\n",
    "   \n",
    "        updated = get_new_order(vals,is_north)\n",
    "        for i,v in enumerate(updated):\n",
    "            if updated!=[]:\n",
    "                data_arr[orders[i],x] = v\n",
    "\n",
    "def east_west(is_west):\n",
    "    for x in range(0,len(data_arr)):\n",
    "        r = data_arr[x,:]\n",
    "        vals,orders = get_cols(r)\n",
    "        \n",
    "        updated = get_new_order(vals,is_west)\n",
    "        for i,v in enumerate(updated):\n",
    "            if updated!=[]:\n",
    "                data_arr[x,orders[i]] = v\n",
    "\n",
    "output =[]\n",
    "range_ = 0\n",
    "for z in range(0,70):\n",
    "    for x in range(range_,range_+z):\n",
    "        north_south(True)\n",
    "        east_west(True)\n",
    "        north_south(False)\n",
    "        east_west(False)\n",
    "\n",
    "    output.append(np.sum(np.sum(data_arr == 'O',axis=1)*((np.arange(0,len(data_arr)))[::-1]+1)))\n",
    "\n",
    "\n",
    "#np.sum(np.sum(data_arr == 'O',axis=1)*((np.arange(0,len(data_arr)))[::-1]+1))\n",
    "np.unique(np.array(output))\n"
   ]
  },
  {
   "cell_type": "code",
   "execution_count": 54,
   "metadata": {},
   "outputs": [
    {
     "data": {
      "text/plain": [
       "[['O', '.', '.', '.', '.', '#', '.', '.', '.', '.'],\n",
       " ['O', '.', 'O', 'O', '#', '.', '.', '.', '.', '#'],\n",
       " ['.', '.', '.', '.', '.', '#', '#', '.', '.', '.'],\n",
       " ['O', 'O', '.', '#', 'O', '.', '.', '.', '.', 'O'],\n",
       " ['.', 'O', '.', '.', '.', '.', '.', 'O', '#', '.'],\n",
       " ['O', '.', '#', '.', '.', 'O', '.', '#', '.', '#'],\n",
       " ['.', '.', 'O', '.', '.', '#', 'O', '.', '.', 'O'],\n",
       " ['.', '.', '.', '.', '.', '.', '.', 'O', '.', '.'],\n",
       " ['#', '.', '.', '.', '.', '#', '#', '#', '.', '.'],\n",
       " ['#', 'O', 'O', '.', '.', '#', '.', '.', '.', '.'],\n",
       " 104,\n",
       " 87,\n",
       " 69,\n",
       " 64,\n",
       " 69,\n",
       " 63,\n",
       " 65,\n",
       " 65,\n",
       " 63,\n",
       " 69,\n",
       " 64,\n",
       " 69,\n",
       " 63,\n",
       " 65,\n",
       " 65,\n",
       " 63,\n",
       " 69,\n",
       " 64,\n",
       " 69,\n",
       " 63]"
      ]
     },
     "execution_count": 54,
     "metadata": {},
     "output_type": "execute_result"
    }
   ],
   "source": [
    "array([94479, 94601, 94724, 94836, 95024, 95160, 95247, 95525, 95779,\n",
    "       96067, 96225, 96405, 96590, 96758, 96764, 96786, 96851, 96856,\n",
    "       96927, 96928, 97068, 97074, 97185, 97189, 97241, 97250])\n",
    "\n"
   ]
  },
  {
   "cell_type": "code",
   "execution_count": 111,
   "metadata": {},
   "outputs": [
    {
     "data": {
      "text/plain": [
       "array([97074, 97185, 97189, 97241, 97250])"
      ]
     },
     "execution_count": 111,
     "metadata": {},
     "output_type": "execute_result"
    }
   ],
   "source": [
    "np.unique(np.array(output)[np.array(output) > 97068]) #97189 too low #97250 not right"
   ]
  },
  {
   "cell_type": "code",
   "execution_count": 91,
   "metadata": {},
   "outputs": [
    {
     "data": {
      "text/plain": [
       "array([104,  87,  69,  64,  69,  63,  65,  65,  63,  69,  64,  69,  63,\n",
       "        65,  65,  63,  69,  64,  69,  63,  65,  65,  63,  69,  64,  69,\n",
       "        63,  65,  65,  63])"
      ]
     },
     "execution_count": 91,
     "metadata": {},
     "output_type": "execute_result"
    }
   ],
   "source": [
    "np.array(output)"
   ]
  },
  {
   "cell_type": "code",
   "execution_count": 92,
   "metadata": {},
   "outputs": [
    {
     "data": {
      "text/plain": [
       "6"
      ]
     },
     "execution_count": 92,
     "metadata": {},
     "output_type": "execute_result"
    }
   ],
   "source": [
    "1000000000 % 7"
   ]
  },
  {
   "cell_type": "code",
   "execution_count": 109,
   "metadata": {},
   "outputs": [
    {
     "data": {
      "text/plain": [
       "array([False, False, False, False, False, False, False, False, False,\n",
       "       False, False, False, False, False, False, False, False, False,\n",
       "        True, False, False, False, False, False, False, False,  True,\n",
       "       False, False, False, False, False, False, False, False, False,\n",
       "       False, False, False, False, False, False, False, False, False,\n",
       "        True, False, False, False, False, False, False, False,  True,\n",
       "       False, False, False, False, False, False, False, False, False,\n",
       "       False, False, False, False, False, False, False])"
      ]
     },
     "execution_count": 109,
     "metadata": {},
     "output_type": "execute_result"
    }
   ],
   "source": [
    "np.array(output)==97250"
   ]
  },
  {
   "cell_type": "code",
   "execution_count": 110,
   "metadata": {},
   "outputs": [
    {
     "data": {
      "text/plain": [
       "1"
      ]
     },
     "execution_count": 110,
     "metadata": {},
     "output_type": "execute_result"
    }
   ],
   "source": [
    "1000000000 % 27"
   ]
  },
  {
   "cell_type": "code",
   "execution_count": 114,
   "metadata": {},
   "outputs": [
    {
     "data": {
      "text/plain": [
       "array([97241, 97250])"
      ]
     },
     "execution_count": 114,
     "metadata": {},
     "output_type": "execute_result"
    }
   ],
   "source": [
    "np.unique(np.array(output))[np.unique(np.array(output)) > 97189]"
   ]
  },
  {
   "cell_type": "code",
   "execution_count": null,
   "metadata": {},
   "outputs": [],
   "source": []
  }
 ],
 "metadata": {
  "kernelspec": {
   "display_name": "llm",
   "language": "python",
   "name": "llm"
  },
  "language_info": {
   "codemirror_mode": {
    "name": "ipython",
    "version": 3
   },
   "file_extension": ".py",
   "mimetype": "text/x-python",
   "name": "python",
   "nbconvert_exporter": "python",
   "pygments_lexer": "ipython3",
   "version": "3.10.9"
  }
 },
 "nbformat": 4,
 "nbformat_minor": 2
}
