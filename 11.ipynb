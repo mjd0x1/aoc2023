{
 "cells": [
  {
   "cell_type": "code",
   "execution_count": 222,
   "metadata": {},
   "outputs": [
    {
     "data": {
      "text/plain": [
       "458191688761"
      ]
     },
     "execution_count": 222,
     "metadata": {},
     "output_type": "execute_result"
    }
   ],
   "source": [
    "import numpy as np\n",
    "import pandas as pd\n",
    "\n",
    "#open text file\n",
    "with open('input11.txt') as f:\n",
    "    data = f.readlines()\n",
    "\n",
    "data = [x.strip() for x in data]\n",
    "new_data = []\n",
    "for i,r in enumerate(data):\n",
    "    new_data.append(list(data[i]))\n",
    "np_array = np.array(new_data,dtype=object)\n",
    "\n",
    "cols= []\n",
    "rows = []\n",
    "for x in range(0,len(data[0])):\n",
    "    if np.sum(np_array[x,:]== '#') == 0:\n",
    "        rows.append(x)\n",
    "for x in range(0,len(data[1])):\n",
    "    if np.sum(np_array[:,x]== '#') == 0:\n",
    "        cols.append(x)\n",
    "\n",
    "rows,cols\n",
    "\n",
    "\n",
    "#offset = 0\n",
    "#for y in cols:\n",
    "#    np_array = np.insert(np_array, y+offset, '.', axis=1)\n",
    "#    offset+=1\n",
    "\n",
    "\n",
    "#offset = 0\n",
    "#for x in rows:\n",
    "#    np_array = np.insert(np_array, x+offset, '.', axis=0)\n",
    "#    offset+=1\n",
    "\n",
    "ct = 1\n",
    "for x in range(0,np.shape(np_array)[0]):\n",
    "    for y in range(0,np.shape(np_array)[1]):\n",
    "        if np_array[x,y]=='#':\n",
    "            if x==7 and y==9:\n",
    "                print(\"here\",ct)\n",
    "            np_array[x,y]=f\"{ct}\"\n",
    "            ct+=1\n",
    "            #print(f\"X:{x} Y:{y} ct:{ct}\")\n",
    "\n",
    "\n",
    "\n",
    "def get_expansion(id1,id2):\n",
    "    p1 = get_coord(id1)\n",
    "    p2 = get_coord(id2)\n",
    "\n",
    "    row1,col1 = p1\n",
    "    row2, col2 = p2\n",
    "\n",
    "    col_count = 0\n",
    "    for c in cols:\n",
    "        col_count += 1 if  c in range(min(col1,col2),max(col1,col2)) else 0\n",
    "\n",
    "    row_count = 0\n",
    "    for r in rows:\n",
    "        row_count += 1 if  r in range(min(row1,row2),max(row1,row2)) else 0\n",
    "\n",
    "    return row_count,col_count\n",
    "\n",
    "\n",
    "def get_coord(id):\n",
    "    return np.where(np_array == f'{id}')[0][0],np.where(np_array == f'{id}')[1][0]\n",
    "\n",
    "def get_distance(id1,id2,par):\n",
    "\n",
    "    p1 = get_coord(id1)\n",
    "    p2 = get_coord(id2)\n",
    "\n",
    "    row1,col1 = p1\n",
    "    row2, col2 = p2 \n",
    "\n",
    "    row_expansion, col_expansion = get_expansion(id1,id2)\n",
    "    row_expansion *=par\n",
    "    col_expansion *=par\n",
    "\n",
    "    min_ = min(abs(row2-row1)+row_expansion, abs(col2-col1)+col_expansion)\n",
    "    return min_ * 2 + max(abs(row2-row1)+row_expansion, abs(col2-col1)+col_expansion) - min_\n",
    "\n",
    "\n",
    "\n",
    "sum_s =0 \n",
    "for x in range(1,ct):\n",
    "    for y in range(1,ct):\n",
    "        if x < y:\n",
    "            sum_s +=get_distance(x,y,999999)\n",
    "\n",
    "sum_s\n"
   ]
  },
  {
   "cell_type": "code",
   "execution_count": 173,
   "metadata": {},
   "outputs": [],
   "source": [
    "np.array(ctype)"
   ]
  },
  {
   "cell_type": "code",
   "execution_count": 140,
   "metadata": {},
   "outputs": [
    {
     "data": {
      "text/plain": [
       "([57, 69, 76, 93, 96, 109, 118], [6, 50, 59, 67, 119])"
      ]
     },
     "execution_count": 140,
     "metadata": {},
     "output_type": "execute_result"
    }
   ],
   "source": [
    "rows,cols"
   ]
  },
  {
   "cell_type": "markdown",
   "metadata": {},
   "source": [
    "row1 "
   ]
  },
  {
   "cell_type": "code",
   "execution_count": 187,
   "metadata": {},
   "outputs": [],
   "source": [
    "np_array[1,1]= \"234\""
   ]
  },
  {
   "cell_type": "code",
   "execution_count": 191,
   "metadata": {},
   "outputs": [
    {
     "data": {
      "text/plain": [
       "([3, 7], [2, 5, 8])"
      ]
     },
     "execution_count": 191,
     "metadata": {},
     "output_type": "execute_result"
    }
   ],
   "source": [
    "rows,cols"
   ]
  },
  {
   "cell_type": "code",
   "execution_count": 210,
   "metadata": {},
   "outputs": [
    {
     "data": {
      "text/plain": [
       "array([['.', '.', '.', '1', '.', '.', '.', '.', '.', '.'],\n",
       "       ['.', '.', '.', '.', '.', '.', '.', '2', '.', '.'],\n",
       "       ['3', '.', '.', '.', '.', '.', '.', '.', '.', '.'],\n",
       "       ['.', '.', '.', '.', '.', '.', '.', '.', '.', '.'],\n",
       "       ['.', '.', '.', '.', '.', '.', '4', '.', '.', '.'],\n",
       "       ['.', '5', '.', '.', '.', '.', '.', '.', '.', '.'],\n",
       "       ['.', '.', '.', '.', '.', '.', '.', '.', '.', '6'],\n",
       "       ['.', '.', '.', '.', '.', '.', '.', '.', '.', '.'],\n",
       "       ['.', '.', '.', '.', '.', '.', '.', '7', '.', '.'],\n",
       "       ['8', '.', '.', '.', '9', '.', '.', '.', '.', '.']], dtype=object)"
      ]
     },
     "execution_count": 210,
     "metadata": {},
     "output_type": "execute_result"
    }
   ],
   "source": [
    "np_array"
   ]
  },
  {
   "cell_type": "code",
   "execution_count": 216,
   "metadata": {},
   "outputs": [
    {
     "data": {
      "text/plain": [
       "(0, 1)"
      ]
     },
     "execution_count": 216,
     "metadata": {},
     "output_type": "execute_result"
    }
   ],
   "source": [
    "\n",
    "def get_expansion(id1,id2):\n",
    "    p1 = get_coord(id1)\n",
    "    p2 = get_coord(id2)\n",
    "\n",
    "    row1,col1 = p1\n",
    "    row2, col2 = p2\n",
    "\n",
    "    col_count = 0\n",
    "    for c in cols:\n",
    "        col_count += 1 if  c in range(min(col1,col2),max(col1,col2)) else 0\n",
    "\n",
    "    row_count = 0\n",
    "    for r in rows:\n",
    "        row_count += 1 if  r in range(min(row1,row2),max(row1,row2)) else 0\n",
    "\n",
    "    return row_count,col_count\n",
    "\n",
    "get_expansion(1,3)"
   ]
  },
  {
   "cell_type": "code",
   "execution_count": null,
   "metadata": {},
   "outputs": [],
   "source": []
  }
 ],
 "metadata": {
  "kernelspec": {
   "display_name": "llm",
   "language": "python",
   "name": "llm"
  },
  "language_info": {
   "codemirror_mode": {
    "name": "ipython",
    "version": 3
   },
   "file_extension": ".py",
   "mimetype": "text/x-python",
   "name": "python",
   "nbconvert_exporter": "python",
   "pygments_lexer": "ipython3",
   "version": "3.10.9"
  }
 },
 "nbformat": 4,
 "nbformat_minor": 2
}
