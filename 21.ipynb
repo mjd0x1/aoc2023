{
 "cells": [
  {
   "cell_type": "code",
   "execution_count": 34,
   "metadata": {},
   "outputs": [
    {
     "data": {
      "text/plain": [
       "3677"
      ]
     },
     "execution_count": 34,
     "metadata": {},
     "output_type": "execute_result"
    }
   ],
   "source": [
    "import numpy as np\n",
    "import pandas as pd\n",
    "\n",
    "#open text file\n",
    "with open('input21.txt') as f:\n",
    "    data = f.readlines()\n",
    "ls = []\n",
    "for x in data:\n",
    "    ls.append(list(x.strip()))\n",
    "\n",
    "arr = np.array(ls)\n",
    "arr[arr=='S']='2'\n",
    "arr[arr=='.']='0'\n",
    "arr[arr=='#']='1'\n",
    "arr= np.array(arr,dtype=int)\n",
    "\n",
    "def get_coords(arr):\n",
    "\n",
    "    ids = np.where(arr==2)\n",
    "    coords= []\n",
    "    for i,x in enumerate(ids[0]):\n",
    "        coords.append([ids[0][i],ids[1][i]])\n",
    "    return coords\n",
    "\n",
    "def take_step(X,Y,arr):\n",
    "\n",
    "    directions = [[0,1],[1,0],[0,-1],[-1,0]]\n",
    "\n",
    "    arr[X,Y]= 0\n",
    "    for d in directions:\n",
    "        x,y = d\n",
    "        if arr[X+x,Y+y] != 1:\n",
    "            if X+x >= 0 and  X+x < np.shape(arr)[0] and X+x >= 0 and  Y+y >=0 and  Y+y < np.shape(arr)[1]:\n",
    "                arr[X+x,Y+y]= 2 \n",
    "    return arr\n",
    "\n",
    "for step in range(0,64):\n",
    "    coords = get_coords(arr)\n",
    "    for c in coords:\n",
    "        X,Y = c\n",
    "        arr = take_step(X,Y,arr)\n",
    "\n",
    "    arr\n",
    "\n",
    "np.sum(arr==2)"
   ]
  },
  {
   "cell_type": "code",
   "execution_count": 22,
   "metadata": {},
   "outputs": [
    {
     "data": {
      "text/plain": [
       "(11, 11)"
      ]
     },
     "execution_count": 22,
     "metadata": {},
     "output_type": "execute_result"
    }
   ],
   "source": [
    "np.shape(arr)"
   ]
  },
  {
   "cell_type": "code",
   "execution_count": null,
   "metadata": {},
   "outputs": [],
   "source": []
  }
 ],
 "metadata": {
  "kernelspec": {
   "display_name": "llm",
   "language": "python",
   "name": "llm"
  },
  "language_info": {
   "codemirror_mode": {
    "name": "ipython",
    "version": 3
   },
   "file_extension": ".py",
   "mimetype": "text/x-python",
   "name": "python",
   "nbconvert_exporter": "python",
   "pygments_lexer": "ipython3",
   "version": "3.10.9"
  }
 },
 "nbformat": 4,
 "nbformat_minor": 2
}
