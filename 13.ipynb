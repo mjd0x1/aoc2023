{
 "cells": [
  {
   "cell_type": "code",
   "execution_count": 37,
   "metadata": {},
   "outputs": [],
   "source": [
    "import numpy as np\n",
    "import pandas as pd\n",
    "\n",
    "#open text file\n",
    "\n",
    "\n"
   ]
  },
  {
   "cell_type": "code",
   "execution_count": 101,
   "metadata": {},
   "outputs": [
    {
     "data": {
      "text/plain": [
       "54114"
      ]
     },
     "execution_count": 101,
     "metadata": {},
     "output_type": "execute_result"
    }
   ],
   "source": [
    "\n",
    "with open('input13.txt') as f:\n",
    "    data = f.readlines()\n",
    "\n",
    "\n",
    "input = []\n",
    "my_data = {}\n",
    "ct = 1\n",
    "\n",
    "for x in data:\n",
    "    if list(x.strip()) ==[]:\n",
    "        my_data[ct] = np.array(input,dtype=object)\n",
    "        ct+=1\n",
    "        input=[]\n",
    "        continue\n",
    "    input.append(list(x.strip()))\n",
    "\n",
    "\n",
    "def find_two_columns(id):\n",
    "    ls = []\n",
    "    for i in range(0,np.shape(my_data[id])[1]-1):\n",
    "        z = my_data[id][:,i:i+2]\n",
    "        if np.all(z.transpose()[0]==z.transpose()[1]):\n",
    "            ls.append((i,i+1))\n",
    "    return ls\n",
    "\n",
    "def find_two_rows(id):\n",
    "    ls = []\n",
    "    for i in range(0,np.shape(my_data[id])[0]-1):\n",
    "        z = my_data[id][i:i+2,:]\n",
    "    \n",
    "        if np.all(z[0]==z[1]):\n",
    "            \n",
    "            ls.append((i,i+1))\n",
    "    return ls\n",
    "\n",
    "def traverse_rows(id,pair):\n",
    "    id1,id2= pair\n",
    "\n",
    "    current1 = id1-1\n",
    "    current2 = id2+1\n",
    "\n",
    "    #if current1 < 0 or current2 > np.shape(my_data[id])[0]-1:\n",
    "    \n",
    "    #    return True\n",
    "    \n",
    "\n",
    "\n",
    "    checks = []\n",
    "    for i in range(0,np.shape(my_data[id])[0]-1):\n",
    "        \n",
    "        if current1 < 0 or current2 > np.shape(my_data[id])[0]-1:\n",
    "            break\n",
    "\n",
    "        z1= my_data[id][current1,:]\n",
    "        z2 = my_data[id][current2,:]\n",
    "        if np.all(z1==z2):\n",
    "            checks.append(0)\n",
    "        else:\n",
    "            checks.append(1)\n",
    "        \n",
    "        current1-=1\n",
    "        current2+=1\n",
    "\n",
    "        if current1 < 0 or current2 > np.shape(my_data[id])[0]-1:\n",
    "            break\n",
    "\n",
    "    return np.sum(checks) ==0\n",
    "\n",
    "\n",
    "def traverse_cols(id,pair):\n",
    "    id1,id2= pair\n",
    "\n",
    "    current1 = id1-1\n",
    "    current2 = id2+1\n",
    "\n",
    "    #if current1 < 0 or current2 > np.shape(my_data[id])[1]-1:\n",
    "    #    return True\n",
    "\n",
    "    checks = []\n",
    "    for i in range(0,np.shape(my_data[id])[1]-1):\n",
    "        \n",
    "        if current1 < 0 or current2 > np.shape(my_data[id])[1]-1:\n",
    "            break\n",
    "\n",
    "        z1= my_data[id][:,current1]\n",
    "        z2 = my_data[id][:,current2]\n",
    "        if np.all(z1==z2):\n",
    "            checks.append(0)\n",
    "        else:\n",
    "            checks.append(1)\n",
    "        \n",
    "        current1-=1\n",
    "        current2+=1\n",
    "        \n",
    "        if current1 < 0 or current2 > np.shape(my_data[id])[1]-1:\n",
    "            break\n",
    "    return np.sum(checks) ==0\n",
    "\n",
    "\n",
    "\n",
    "#traverse_rows(find_two_rows(1)[0])\n",
    "\n",
    "#main loop\n",
    "\n",
    "def produce_sum(x):\n",
    "    rows= find_two_rows(x)\n",
    "    cols = find_two_columns(x)\n",
    "    \n",
    "    sum_s  = 0 \n",
    "    for r in rows:\n",
    "        if traverse_rows(x,r):\n",
    "            if (r[0]+1)*100 > sum_s:\n",
    "                sum_s = (r[0]+1)*100 \n",
    "\n",
    "    if sum_s > 0:\n",
    "        return sum_s\n",
    "    for c in cols:\n",
    "        if traverse_cols(x,c):\n",
    "           if (c[0]+1) > sum_s:\n",
    "              sum_s  = (c[0]+1)\n",
    "    return sum_s\n",
    "\n",
    "\n",
    "\n",
    "sum_s =[] \n",
    "for x in list(my_data.keys()):\n",
    "    sub_sums=[]\n",
    "    original = produce_sum(x)\n",
    "\n",
    "    for i in range(0,np.shape(my_data[x])[0]-1):\n",
    "        for j in range(0,np.shape(my_data[x])[1]-1):\n",
    "            my_data[x][i,j] = '.' if my_data[x][i,j] == '#' else '#'\n",
    "            k = produce_sum(x)\n",
    "            if k > 0:\n",
    "                sub_sums.append(k)\n",
    "            my_data[x][i,j] = '.' if my_data[x][i,j] == '#' else '#'\n",
    "    if len(np.array(sub_sums)[np.array(sub_sums) != original]) > 0:\n",
    "        sum_s.append(np.array(sub_sums)[np.array(sub_sums) != original][0])\n",
    "    else:\n",
    "        sum_s.append(original)\n",
    "np.sum(sum_s)\n"
   ]
  },
  {
   "cell_type": "code",
   "execution_count": 100,
   "metadata": {},
   "outputs": [
    {
     "data": {
      "text/plain": [
       "[16,\n",
       " 500,\n",
       " 2,\n",
       " 1000,\n",
       " 700,\n",
       " 700,\n",
       " 8,\n",
       " 1300,\n",
       " 9,\n",
       " 100,\n",
       " 10,\n",
       " 1500,\n",
       " 900,\n",
       " 1200,\n",
       " 900,\n",
       " 1400,\n",
       " 1100,\n",
       " 1000,\n",
       " 3,\n",
       " 100,\n",
       " 10,\n",
       " 800,\n",
       " 500,\n",
       " 1000,\n",
       " 1100,\n",
       " 500,\n",
       " 6,\n",
       " 1,\n",
       " 100,\n",
       " 600,\n",
       " 1,\n",
       " 7,\n",
       " 900,\n",
       " 700,\n",
       " 900,\n",
       " 1100,\n",
       " 15,\n",
       " 800,\n",
       " 800,\n",
       " 8,\n",
       " 200,\n",
       " 900,\n",
       " 800,\n",
       " 800,\n",
       " 1,\n",
       " 1000,\n",
       " 100,\n",
       " 9,\n",
       " 500,\n",
       " 100,\n",
       " 400,\n",
       " 1200,\n",
       " 800,\n",
       " 1300,\n",
       " 7,\n",
       " 500,\n",
       " 400,\n",
       " 500,\n",
       " 12,\n",
       " 13,\n",
       " 900,\n",
       " 800]"
      ]
     },
     "execution_count": 100,
     "metadata": {},
     "output_type": "execute_result"
    }
   ],
   "source": [
    "np.msum_s"
   ]
  },
  {
   "cell_type": "code",
   "execution_count": 194,
   "metadata": {},
   "outputs": [
    {
     "data": {
      "text/plain": [
       "(9, 17)"
      ]
     },
     "execution_count": 194,
     "metadata": {},
     "output_type": "execute_result"
    }
   ],
   "source": [
    "rows,cols = np.shape(my_data[1])\n",
    "test = my_data[1].copy()\n",
    "for x in range(0,rows):\n",
    "    for y in range(0,cols):\n",
    "        test[x,y] = \".\" if test[x,y] == \"#\" else \"#\"\n",
    "        "
   ]
  },
  {
   "cell_type": "code",
   "execution_count": 5,
   "metadata": {},
   "outputs": [
    {
     "data": {
      "text/plain": [
       "{1: array([['#', '.', '#', '#', '.', '.', '#', '#', '.'],\n",
       "        ['.', '.', '#', '.', '#', '#', '.', '#', '.'],\n",
       "        ['#', '#', '.', '.', '.', '.', '.', '.', '#'],\n",
       "        ['#', '#', '.', '.', '.', '.', '.', '.', '#'],\n",
       "        ['.', '.', '#', '.', '#', '#', '.', '#', '.'],\n",
       "        ['.', '.', '#', '#', '.', '.', '#', '#', '.'],\n",
       "        ['#', '.', '#', '.', '#', '#', '.', '#', '.']], dtype=object),\n",
       " 2: array([['#', '.', '.', '.', '#', '#', '.', '.', '#'],\n",
       "        ['#', '.', '.', '.', '.', '#', '.', '.', '#'],\n",
       "        ['.', '.', '#', '#', '.', '.', '#', '#', '#'],\n",
       "        ['#', '#', '#', '#', '#', '.', '#', '#', '.'],\n",
       "        ['#', '#', '#', '#', '#', '.', '#', '#', '.'],\n",
       "        ['.', '.', '#', '#', '.', '.', '#', '#', '#'],\n",
       "        ['#', '.', '.', '.', '.', '#', '.', '.', '#']], dtype=object)}"
      ]
     },
     "execution_count": 5,
     "metadata": {},
     "output_type": "execute_result"
    }
   ],
   "source": [
    "my_data"
   ]
  },
  {
   "cell_type": "code",
   "execution_count": 226,
   "metadata": {},
   "outputs": [
    {
     "data": {
      "text/plain": [
       "array([['.', '.', '#', '#', '.', '.', '#', '#', '.'],\n",
       "       ['.', '.', '#', '.', '#', '#', '.', '#', '.'],\n",
       "       ['#', '#', '.', '.', '.', '.', '.', '.', '#'],\n",
       "       ['#', '#', '.', '.', '.', '.', '.', '.', '#'],\n",
       "       ['.', '.', '#', '.', '#', '#', '.', '#', '.'],\n",
       "       ['.', '.', '#', '#', '.', '.', '#', '#', '.'],\n",
       "       ['#', '.', '#', '.', '#', '#', '.', '#', '.']], dtype=object)"
      ]
     },
     "execution_count": 226,
     "metadata": {},
     "output_type": "execute_result"
    }
   ],
   "source": [
    "my_data[1]"
   ]
  },
  {
   "cell_type": "code",
   "execution_count": null,
   "metadata": {},
   "outputs": [],
   "source": []
  }
 ],
 "metadata": {
  "kernelspec": {
   "display_name": "llm",
   "language": "python",
   "name": "llm"
  },
  "language_info": {
   "codemirror_mode": {
    "name": "ipython",
    "version": 3
   },
   "file_extension": ".py",
   "mimetype": "text/x-python",
   "name": "python",
   "nbconvert_exporter": "python",
   "pygments_lexer": "ipython3",
   "version": "3.10.9"
  }
 },
 "nbformat": 4,
 "nbformat_minor": 2
}
