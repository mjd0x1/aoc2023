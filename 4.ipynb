{
 "cells": [
  {
   "cell_type": "code",
   "execution_count": 188,
   "metadata": {},
   "outputs": [],
   "source": [
    "import numpy as np\n",
    "import pandas as pd\n",
    "\n",
    "#open text file\n",
    "with open('input4.txt') as f:\n",
    "    data = f.readlines()\n",
    "    "
   ]
  },
  {
   "cell_type": "code",
   "execution_count": 190,
   "metadata": {},
   "outputs": [
    {
     "name": "stdout",
     "output_type": "stream",
     "text": [
      "range(0, 193)\n",
      "6283755\n"
     ]
    }
   ],
   "source": [
    "actual = []\n",
    "bought = []\n",
    "for x in data:\n",
    "    actual.append([int(t.strip()) for t in x.split(':')[1].split(\"|\")[0].strip().split(\" \") if t!=''])\n",
    "    bought.append([int(t) for t in x.split(':')[1].split(\"|\")[1].strip().split(\" \") if t!=''])\n",
    "\n",
    "\n",
    "\n",
    "def flatten(a):\n",
    "    \n",
    "    output = []\n",
    "    for x in a:\n",
    "        output +=x\n",
    "    \n",
    "    return output\n",
    "\n",
    "card_counts = []\n",
    "\n",
    "for i,x in enumerate(bought):\n",
    "    #val =2**(len(np.intersect1d(np.array(actual[i]),np.array(x)))-1)\n",
    "    #overlap.append(val if val >=1 else 0)\n",
    "    card_counts.append(len(np.intersect1d(np.array(actual[i]),np.array(x))))\n",
    "\n",
    "live_cards = range(0,len(data))\n",
    "print(live_cards)\n",
    "\n",
    "old_cards = []\n",
    "while len(live_cards) > 0:\n",
    "    new_cards =[]\n",
    "    for i,x in enumerate(live_cards):\n",
    "        if card_counts[x] > 0:\n",
    "            new_cards.append((np.arange(0,card_counts[x])+x+1).tolist()) \n",
    "\n",
    "    old_cards += live_cards\n",
    "    live_cards = flatten(new_cards)\n",
    "    \n",
    "\n",
    "\n",
    "print(len(old_cards))\n"
   ]
  },
  {
   "cell_type": "code",
   "execution_count": 165,
   "metadata": {},
   "outputs": [
    {
     "data": {
      "text/plain": [
       "[4, 2, 2, 1, 0, 0]"
      ]
     },
     "execution_count": 165,
     "metadata": {},
     "output_type": "execute_result"
    }
   ],
   "source": [
    "card_counts"
   ]
  },
  {
   "cell_type": "code",
   "execution_count": null,
   "metadata": {},
   "outputs": [],
   "source": [
    "1\n",
    "2\n",
    "3\n",
    "4\n",
    "5\n",
    "\n",
    "2 3 4 5\n",
    "3 4\n",
    "4 5\n",
    "5\n",
    "\n",
    "3 4 4 5 5\n",
    "4 5 5\n",
    "5\n",
    "\n",
    "4 5 5 5\n",
    "5\n",
    "\n",
    "5 "
   ]
  }
 ],
 "metadata": {
  "kernelspec": {
   "display_name": "llm",
   "language": "python",
   "name": "llm"
  },
  "language_info": {
   "codemirror_mode": {
    "name": "ipython",
    "version": 3
   },
   "file_extension": ".py",
   "mimetype": "text/x-python",
   "name": "python",
   "nbconvert_exporter": "python",
   "pygments_lexer": "ipython3",
   "version": "3.10.9"
  }
 },
 "nbformat": 4,
 "nbformat_minor": 2
}
