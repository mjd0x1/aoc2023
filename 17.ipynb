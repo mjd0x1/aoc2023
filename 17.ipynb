{
 "cells": [
  {
   "cell_type": "code",
   "execution_count": 1,
   "metadata": {},
   "outputs": [
    {
     "data": {
      "text/plain": [
       "array([[2, 4, 1, 3, 4, 3, 2, 3, 1, 1, 3, 2, 3],\n",
       "       [3, 2, 1, 5, 4, 5, 3, 5, 3, 5, 6, 2, 3],\n",
       "       [3, 2, 5, 5, 2, 4, 5, 6, 5, 4, 2, 5, 4],\n",
       "       [3, 4, 4, 6, 5, 8, 5, 8, 4, 5, 4, 5, 2],\n",
       "       [4, 5, 4, 6, 6, 5, 7, 8, 6, 7, 5, 3, 6],\n",
       "       [1, 4, 3, 8, 5, 9, 8, 7, 9, 8, 4, 5, 4],\n",
       "       [4, 4, 5, 7, 8, 7, 6, 9, 8, 7, 7, 6, 6],\n",
       "       [3, 6, 3, 7, 8, 7, 7, 9, 7, 9, 6, 5, 3],\n",
       "       [4, 6, 5, 4, 9, 6, 7, 9, 8, 6, 8, 8, 7],\n",
       "       [4, 5, 6, 4, 6, 7, 9, 9, 8, 6, 4, 5, 3],\n",
       "       [1, 2, 2, 4, 6, 8, 6, 8, 6, 5, 5, 6, 3],\n",
       "       [2, 5, 4, 6, 5, 4, 8, 8, 8, 7, 7, 3, 5],\n",
       "       [4, 3, 2, 2, 6, 7, 4, 6, 5, 5, 5, 3, 3]])"
      ]
     },
     "execution_count": 1,
     "metadata": {},
     "output_type": "execute_result"
    }
   ],
   "source": [
    "import numpy as np\n",
    "import pandas as pd\n",
    "\n",
    "#open text file \n",
    "with open('input17.txt') as f:\n",
    "    data = f.readlines()\n",
    "ls = []\n",
    "for x in data:\n",
    "    ls.append(list(x.strip()))\n",
    "arr  = np.array(ls,dtype=int)\n",
    "arr"
   ]
  },
  {
   "cell_type": "code",
   "execution_count": 169,
   "metadata": {},
   "outputs": [
    {
     "data": {
      "text/plain": [
       "array([[ 2.,  6.,  7., 10., 14., 17., 19., 22., 23., 24., 27., 29., 32.],\n",
       "       [ 5.,  7.,  8., 13., 17., 22., 22., 27., 26., 29., 33., 31., 34.],\n",
       "       [ 8.,  9., 13., 18., 19., 23., 27., 33., 31., 33., 35., 36., 38.],\n",
       "       [11., 13., 17., 23., 24., 31., 32., 40., 35., 38., 39., 41., 40.],\n",
       "       [15., 18., 21., 27., 30., 35., 39., 47., 41., 45., 44., 44., 46.],\n",
       "       [16., 20., 23., 31., 35., 44., 47., 54., 50., 53., 48., 49., 50.],\n",
       "       [20., 24., 28., 35., 43., 50., 53., 62., 58., 60., 55., 55., 56.],\n",
       "       [23., 29., 31., 38., 46., 53., 60., 69., 65., 69., 61., 60., 59.],\n",
       "       [27., 33., 36., 40., 49., 55., 62., 71., 73., 75., 69., 68., 66.],\n",
       "       [31., 36., 42., 44., 50., 57., 66., 75., 81., 79., 73., 73., 69.],\n",
       "       [32., 34., 36., 40., 46., 54., 60., 68., 74., 79., 78., 78., 72.],\n",
       "       [34., 39., 40., 46., 51., 55., 63., 71., 79., 84., 85., 80., 77.],\n",
       "       [38., 41., 42., 44., 50., 57., 61., 67., 72., 77., 82., 83., 80.]])"
      ]
     },
     "execution_count": 169,
     "metadata": {},
     "output_type": "execute_result"
    }
   ],
   "source": [
    "\n",
    "matr = arr\n",
    "\n",
    "nodes = [(0,0)]\n",
    "\n",
    "directions = [(0,1),(1,0),(0,-1),(-1,0)]\n",
    "visited = np.array([False] * len(np.ravel(matr)) ).reshape(np.shape(matr)[0],np.shape(matr)[1])\n",
    "min_distance = np.ones((np.shape(matr)[0],np.shape(matr)[1])) * 1000\n",
    "min_distance[0,0]=matr[0,0]\n",
    "direction_x = np.zeros((np.shape(matr)[0],np.shape(matr)[1]))\n",
    "direction_y = np.zeros((np.shape(matr)[0],np.shape(matr)[1]))\n",
    "straight_line_count =  np.zeros((np.shape(matr)[0],np.shape(matr)[1]))\n",
    "\n",
    "#get neighbour coords\n",
    "def get_neighbour_coords(node,direction):\n",
    "    x,y = np.array(node)+np.array(direction)\n",
    "    coords = None\n",
    "    if x >=0 and x < np.shape(matr)[0] and y >=0 and y < np.shape(matr)[1]:\n",
    "        coords = (x,y)\n",
    "    return coords\n",
    "\n",
    "#visited\n",
    "def get_neighbour_val(neighbour):\n",
    "    x,y = neighbour\n",
    "    val = 100000\n",
    "    if x >=0 and x < np.shape(matr)[0] and y >=0 and y < np.shape(matr)[1]:\n",
    "        val = matr[x,y]\n",
    "    return val\n",
    "\n",
    "\n",
    "while len(nodes) > 0:\n",
    "\n",
    "\n",
    "    new_nodes= []\n",
    "    for n in nodes:\n",
    "       \n",
    "        visited[n]=True\n",
    "        #check neighbours\n",
    "        root_val = min_distance[n]\n",
    "        root_straight = straight_line_count[n]\n",
    "       \n",
    "        for d in directions:\n",
    "            neighbour = get_neighbour_coords(n,d)\n",
    "            if neighbour is not None:\n",
    "                 \n",
    "                X,Y = d\n",
    "\n",
    "                  \n",
    "               \n",
    "                if root_val + get_neighbour_val(neighbour) < min_distance[neighbour]:\n",
    "                \n",
    "                   \n",
    "                    same_direction =  (X,Y)== (direction_x[n],direction_y[n]) \n",
    "                    count = (1+ straight_line_count[n]) if same_direction else 1\n",
    "\n",
    "                    if count < 20:\n",
    "                        direction_x[neighbour]=X\n",
    "                        direction_y[neighbour]=Y\n",
    "                        straight_line_count[neighbour] =(1+ straight_line_count[n]) if same_direction else 1\n",
    "                        min_distance[neighbour] = root_val + get_neighbour_val(neighbour)\n",
    "\n",
    "\n",
    "            \n",
    "                if not visited[neighbour]:\n",
    "                    new_nodes.append(neighbour)\n",
    "                    \n",
    "\n",
    "    new_nodes = list(set(new_nodes))\n",
    "    new_nodes = sorted(new_nodes,key=lambda x: min_distance[x])\n",
    "    \n",
    "    nodes  = new_nodes\n",
    "    \n",
    "min_distance\n",
    "\n",
    "\n",
    "\n"
   ]
  },
  {
   "cell_type": "code",
   "execution_count": 144,
   "metadata": {},
   "outputs": [
    {
     "data": {
      "text/plain": [
       "array([[0., 1., 2., 3., 4., 5., 6., 7., 1., 1., 1., 1., 1.],\n",
       "       [1., 1., 2., 3., 4., 5., 1., 1., 1., 2., 3., 4., 5.],\n",
       "       [2., 1., 1., 1., 1., 1., 2., 2., 1., 1., 1., 2., 1.],\n",
       "       [3., 2., 1., 2., 2., 1., 3., 1., 2., 1., 1., 1., 2.],\n",
       "       [4., 3., 1., 1., 3., 1., 4., 1., 3., 1., 2., 1., 3.],\n",
       "       [5., 1., 2., 3., 4., 1., 5., 1., 4., 2., 3., 1., 1.],\n",
       "       [6., 1., 1., 1., 5., 1., 6., 1., 5., 3., 4., 2., 1.],\n",
       "       [7., 1., 2., 1., 2., 3., 7., 1., 6., 4., 5., 3., 2.],\n",
       "       [1., 1., 3., 1., 2., 3., 4., 5., 7., 5., 6., 4., 3.],\n",
       "       [1., 2., 4., 1., 1., 2., 3., 4., 5., 1., 7., 5., 4.],\n",
       "       [1., 3., 1., 2., 1., 2., 3., 4., 5., 6., 7., 6., 5.],\n",
       "       [1., 4., 1., 1., 1., 1., 2., 3., 4., 1., 1., 7., 6.],\n",
       "       [1., 5., 2., 1., 2., 3., 4., 5., 6., 7., 2., 1., 7.]])"
      ]
     },
     "execution_count": 144,
     "metadata": {},
     "output_type": "execute_result"
    }
   ],
   "source": [
    "straight_line_count\n",
    " "
   ]
  },
  {
   "cell_type": "code",
   "execution_count": null,
   "metadata": {},
   "outputs": [],
   "source": []
  }
 ],
 "metadata": {
  "kernelspec": {
   "display_name": "llm",
   "language": "python",
   "name": "llm"
  },
  "language_info": {
   "codemirror_mode": {
    "name": "ipython",
    "version": 3
   },
   "file_extension": ".py",
   "mimetype": "text/x-python",
   "name": "python",
   "nbconvert_exporter": "python",
   "pygments_lexer": "ipython3",
   "version": "3.10.9"
  }
 },
 "nbformat": 4,
 "nbformat_minor": 2
}
