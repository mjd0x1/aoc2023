{
 "cells": [
  {
   "cell_type": "code",
   "execution_count": 103,
   "metadata": {},
   "outputs": [
    {
     "data": {
      "text/plain": [
       "65122"
      ]
     },
     "execution_count": 103,
     "metadata": {},
     "output_type": "execute_result"
    }
   ],
   "source": [
    "import numpy as np\n",
    "import pandas as pd\n",
    "\n",
    "#open text file\n",
    "with open('input2.txt') as f:\n",
    "    data = f.readlines()\n",
    "\n",
    "np.sum(np.array([is_game(x) for x in range(0,len(data))]))\n"
   ]
  },
  {
   "cell_type": "code",
   "execution_count": 101,
   "metadata": {},
   "outputs": [],
   "source": [
    "import re\n",
    "\n",
    "def is_game(id):\n",
    "    sets = data[id].split(\":\")[1].split(\"\\n\")[0].split(\";\")\n",
    "\n",
    "    def get_rgb(s):\n",
    "        colours = s.split(\",\")\n",
    "        rgb = {}\n",
    "        for x in colours:\n",
    "            if \"blue\" in x:\n",
    "                rgb[\"BLUE\"] = int(re.findall(r'\\d+', x)[0])\n",
    "            if \"red\" in x:\n",
    "                rgb[\"RED\"] = int(re.findall(r'\\d+', x)[0])\n",
    "            if \"green\" in x:\n",
    "                rgb[\"GREEN\"]  = int(re.findall(r'\\d+', x)[0])\n",
    "        return rgb\n",
    "\n",
    "    rgb_all = []\n",
    "    for s in sets:\n",
    "        rgb_all.append(get_rgb(s))\n",
    "    \n",
    "    return np.max([x.get(\"RED\",0) for x in rgb_all]) *  np.max([x.get(\"GREEN\",0) for x in rgb_all]) *  np.max([x.get(\"BLUE\",0) for x in rgb_all]) \n",
    "    \n",
    "\n"
   ]
  },
  {
   "cell_type": "code",
   "execution_count": 45,
   "metadata": {},
   "outputs": [
    {
     "data": {
      "text/plain": [
       "{'BLUE': 6, 'RED': 1, 'GREEN': 2}"
      ]
     },
     "execution_count": 45,
     "metadata": {},
     "output_type": "execute_result"
    }
   ],
   "source": [
    "b = get_rgb(' 8 blue, 4 red')\n",
    "a = {'RED': 1, 'GREEN': 2, 'BLUE': 6}\n",
    "b.update(a)\n",
    "b"
   ]
  },
  {
   "cell_type": "code",
   "execution_count": 43,
   "metadata": {},
   "outputs": [],
   "source": [
    "c"
   ]
  },
  {
   "cell_type": "code",
   "execution_count": null,
   "metadata": {},
   "outputs": [],
   "source": []
  }
 ],
 "metadata": {
  "kernelspec": {
   "display_name": "llm",
   "language": "python",
   "name": "llm"
  },
  "language_info": {
   "codemirror_mode": {
    "name": "ipython",
    "version": 3
   },
   "file_extension": ".py",
   "mimetype": "text/x-python",
   "name": "python",
   "nbconvert_exporter": "python",
   "pygments_lexer": "ipython3",
   "version": "3.10.9"
  }
 },
 "nbformat": 4,
 "nbformat_minor": 2
}
