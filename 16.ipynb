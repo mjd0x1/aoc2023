{
 "cells": [
  {
   "cell_type": "code",
   "execution_count": 1,
   "metadata": {},
   "outputs": [],
   "source": [
    "import numpy as np\n",
    "import pandas as pd\n",
    "\n",
    "#open text file\n",
    "with open('input16.txt') as f:\n",
    "    data = f.readlines()\n"
   ]
  },
  {
   "cell_type": "code",
   "execution_count": 130,
   "metadata": {},
   "outputs": [
    {
     "data": {
      "text/plain": [
       "(110,)"
      ]
     },
     "execution_count": 130,
     "metadata": {},
     "output_type": "execute_result"
    }
   ],
   "source": [
    "np.shape(data)"
   ]
  },
  {
   "cell_type": "code",
   "execution_count": 51,
   "metadata": {},
   "outputs": [
    {
     "data": {
      "text/plain": [
       "array([[0, 0, 0, 0, 0, 0, 0, 0, 0, 0],\n",
       "       [0, 0, 0, 0, 0, 0, 0, 0, 0, 0],\n",
       "       [0, 0, 0, 0, 0, 0, 0, 0, 0, 0],\n",
       "       [0, 0, 0, 0, 0, 0, 0, 0, 0, 0],\n",
       "       [0, 0, 0, 0, 0, 0, 0, 0, 0, 0],\n",
       "       [0, 0, 0, 0, 0, 0, 0, 0, 0, 0],\n",
       "       [0, 0, 0, 0, 0, 0, 0, 0, 0, 0],\n",
       "       [0, 0, 0, 0, 0, 0, 0, 0, 0, 0],\n",
       "       [0, 0, 0, 0, 0, 0, 0, 0, 0, 0],\n",
       "       [0, 0, 0, 0, 0, 0, 0, 0, 0, 0]])"
      ]
     },
     "execution_count": 51,
     "metadata": {},
     "output_type": "execute_result"
    }
   ],
   "source": []
  },
  {
   "cell_type": "code",
   "execution_count": 2,
   "metadata": {},
   "outputs": [
    {
     "data": {
      "text/plain": [
       "46"
      ]
     },
     "execution_count": 2,
     "metadata": {},
     "output_type": "execute_result"
    }
   ],
   "source": [
    "ls = []\n",
    "for x in data:\n",
    "    ls.append(list(x.strip()))\n",
    "    \n",
    "np_data = np.array(ls)\n",
    "np_data\n",
    "np_model = np_data.copy()\n",
    "\n",
    "np_model[:,:]='0'\n",
    "np_model = np.array(np_model, dtype='int')\n",
    "np_model\n",
    "\n",
    "start = np_data[0,0]\n",
    "direction = [0,1]\n",
    "\n",
    "position = start\n",
    "\n",
    "\n",
    "def reflect90(direction):\n",
    "    if direction == [0,1]:\n",
    "        return [[-1,0]]\n",
    "    elif direction == [-1,0]:\n",
    "        return [[0,1]]\n",
    "    elif direction == [0,-1]:\n",
    "        return [[1,0]]\n",
    "    elif direction == [1,0]:\n",
    "        return [[0,-1]]\n",
    "    \n",
    "\n",
    "\n",
    "def reflectminus90(direction):\n",
    "    if direction == [0,1]:\n",
    "        return [[1,0]]\n",
    "    elif direction == [-1,0]:\n",
    "        return [[0,-1]]\n",
    "    elif direction == [0,-1]:\n",
    "        return [[-1,0]]\n",
    "    elif direction == [1,0]:\n",
    "        return [[0,1]]\n",
    "\n",
    "def split_pipe(direction):\n",
    "    if direction == [1,0]:\n",
    "        return [[1,0]]\n",
    "    elif direction == [-1,0]:\n",
    "        return [[-1,0]]\n",
    "    elif direction == [0,1]:\n",
    "        return [[-1,0],[1,0]]\n",
    "    elif direction == [0,-1]:\n",
    "        return [[-1,0],[1,0]]\n",
    "\n",
    "def split_hyphen(direction):\n",
    "    if direction == [1,0]:\n",
    "        return [[0,-1],[0,1]]\n",
    "    elif direction == [-1,0]:\n",
    "        return [[0,-1],[0,1]]\n",
    "    elif direction == [0,1]:\n",
    "        return [[0,1]]\n",
    "    elif direction == [0,-1]:\n",
    "        return [[0,-1]]\n",
    "\n",
    "\n",
    "current = [[0,0]]\n",
    "current_direction = [[0,1]]\n",
    "np_model[0,0]=1\n",
    "\n",
    "\n",
    "\n",
    "#705\n",
    "for x in range(0,100):\n",
    "\n",
    "    #proess all current positions\n",
    "    new_current = []\n",
    "    new_direction = []\n",
    "    for i,c in enumerate(current):\n",
    "        position = np_data[c[0],c[1]]\n",
    "        \n",
    "        if position == '.':\n",
    "            #direction unchanged\n",
    "            direction = [current_direction[i]]\n",
    "        elif position =='/':\n",
    "            direction  = reflect90(current_direction[i])\n",
    "        elif position == '\\\\':\n",
    "            direction = reflectminus90(current_direction[i])\n",
    "        elif position == '|':\n",
    "            direction = split_pipe(current_direction[i])\n",
    "        elif position == '-':\n",
    "            direction = split_hyphen(current_direction[i])\n",
    "\n",
    "        for d in direction:        \n",
    "            \n",
    "            if c[0]+d[0]>=0 and c[0]+d[0] < np.shape(np_data)[0] and c[1]+d[1] >=0  and c[1]+d[1]  < np.shape(np_data)[1]:\n",
    "                new_current.append([c[0]+d[0],c[1]+d[1]])\n",
    "                new_direction.append(d)\n",
    "                np_model[c[0]+d[0],c[1]+d[1]]=1\n",
    "                                \n",
    "    current = new_current\n",
    "    current_direction = new_direction\n",
    "\n",
    "    \n",
    "\n",
    "np.sum(np_model)\n"
   ]
  },
  {
   "cell_type": "code",
   "execution_count": 132,
   "metadata": {},
   "outputs": [
    {
     "data": {
      "text/plain": [
       "array([[1, 0, 0, ..., 0, 0, 0],\n",
       "       [1, 0, 0, ..., 0, 0, 0],\n",
       "       [1, 1, 1, ..., 0, 0, 0],\n",
       "       ...,\n",
       "       [0, 0, 0, ..., 0, 0, 0],\n",
       "       [0, 0, 0, ..., 0, 0, 0],\n",
       "       [0, 0, 0, ..., 0, 0, 0]])"
      ]
     },
     "execution_count": 132,
     "metadata": {},
     "output_type": "execute_result"
    }
   ],
   "source": [
    "np_model"
   ]
  },
  {
   "cell_type": "code",
   "execution_count": null,
   "metadata": {},
   "outputs": [],
   "source": []
  }
 ],
 "metadata": {
  "kernelspec": {
   "display_name": "llm",
   "language": "python",
   "name": "llm"
  },
  "language_info": {
   "codemirror_mode": {
    "name": "ipython",
    "version": 3
   },
   "file_extension": ".py",
   "mimetype": "text/x-python",
   "name": "python",
   "nbconvert_exporter": "python",
   "pygments_lexer": "ipython3",
   "version": "3.10.9"
  }
 },
 "nbformat": 4,
 "nbformat_minor": 2
}
