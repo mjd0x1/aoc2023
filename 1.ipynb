{
 "cells": [
  {
   "cell_type": "code",
   "execution_count": 1,
   "metadata": {},
   "outputs": [],
   "source": [
    "import numpy as np\n",
    "import pandas as pd"
   ]
  },
  {
   "cell_type": "code",
   "execution_count": 45,
   "metadata": {},
   "outputs": [
    {
     "data": {
      "text/plain": [
       "55218"
      ]
     },
     "execution_count": 45,
     "metadata": {},
     "output_type": "execute_result"
    }
   ],
   "source": [
    "#open text file\n",
    "with open('input1.txt') as f:\n",
    "    data = f.readlines()\n",
    "\n",
    "\n",
    "import re\n",
    "sum_s =0\n",
    "dict_numbers = {\"nineight\":98,\"fiveight\":58, \"threeight\":38 ,  \"twone\":21, \"oneight\":18, \"eightwo\": 82,\"one\":1, \"two\":2, \"three\":3, \"four\":4, \"five\":5, \"six\":6,\n",
    "                \"seven\":7, \"eight\":8, \"nine\":9}\n",
    "\n",
    "#replace text with numbers\n",
    "\n",
    "\n",
    "\n",
    "for x in data:\n",
    "    text  =x\n",
    "    for key, value in dict_numbers.items():\n",
    "         text = text.replace(key, str(value))\n",
    "   \n",
    "    numbers = re.findall(r'\\d', text)\n",
    "    val =0\n",
    "    if numbers != []:\n",
    "        val = int(numbers[0]) * 10 + int(numbers[-1])\n",
    "    sum_s += val\n",
    "sum_s\n",
    "\n",
    "\n"
   ]
  },
  {
   "cell_type": "code",
   "execution_count": 3,
   "metadata": {},
   "outputs": [
    {
     "data": {
      "text/plain": [
       "[]"
      ]
     },
     "execution_count": 3,
     "metadata": {},
     "output_type": "execute_result"
    }
   ],
   "source": [
    "data"
   ]
  },
  {
   "cell_type": "code",
   "execution_count": 29,
   "metadata": {},
   "outputs": [
    {
     "data": {
      "text/plain": [
       "['2',\n",
       " '3',\n",
       " '1',\n",
       " '3',\n",
       " '2',\n",
       " '3',\n",
       " '1',\n",
       " '2',\n",
       " '4',\n",
       " '3',\n",
       " '2',\n",
       " '4',\n",
       " '3',\n",
       " '2',\n",
       " '4',\n",
       " '3']"
      ]
     },
     "execution_count": 29,
     "metadata": {},
     "output_type": "execute_result"
    }
   ],
   "source": [
    "re.findall(r'\\d', \"231323qwqeqwewqewq1243243243\")"
   ]
  },
  {
   "cell_type": "code",
   "execution_count": null,
   "metadata": {},
   "outputs": [],
   "source": []
  }
 ],
 "metadata": {
  "kernelspec": {
   "display_name": "llm",
   "language": "python",
   "name": "llm"
  },
  "language_info": {
   "codemirror_mode": {
    "name": "ipython",
    "version": 3
   },
   "file_extension": ".py",
   "mimetype": "text/x-python",
   "name": "python",
   "nbconvert_exporter": "python",
   "pygments_lexer": "ipython3",
   "version": "3.10.9"
  }
 },
 "nbformat": 4,
 "nbformat_minor": 2
}
